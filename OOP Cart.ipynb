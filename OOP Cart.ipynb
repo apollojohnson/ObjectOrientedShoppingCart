{
 "cells": [
  {
   "cell_type": "markdown",
   "metadata": {},
   "source": [
    "OOP Cart:"
   ]
  },
  {
   "cell_type": "code",
   "execution_count": 3,
   "metadata": {},
   "outputs": [
    {
     "name": "stdout",
     "output_type": "stream",
     "text": [
      "banana\n",
      "onion\n",
      "milk\n"
     ]
    }
   ],
   "source": [
    "class Cart():\n",
    "    need = True\n",
    "        \n",
    "def __init__(self, item_name, category, quant_needed, quant_have, price):\n",
    "    self.item_name = item_name\n",
    "    self.category = category\n",
    "    self.quant_needed = quant_needed\n",
    "    self.quant_have = quant_have\n",
    "    self.price = price\n",
    "            \n",
    "def main():\n",
    "    cart = Cart()\n",
    "    \n",
    "    while True:\n",
    "        cart.add_item\n",
    "        \n",
    "        \n",
    "from IPython.display import clear_output\n",
    "\n",
    "cart = []\n",
    "\n",
    "def add_item(item):\n",
    "    clear_output()\n",
    "    cart.append(item)\n",
    "    show_cart()\n",
    "    \n",
    "def remove_item(item):\n",
    "    clear_output()\n",
    "    if item in cart:\n",
    "        cart.remove(item)\n",
    "\n",
    "def show_cart():\n",
    "    clear_output()\n",
    "    for item in cart:\n",
    "        print(item)\n",
    "        \n",
    "def clear_cart():\n",
    "    clear_output()\n",
    "    cart.clear()\n",
    "    print(\"Your cart empty\")\n",
    "    \n",
    "def shopping_cart():\n",
    "    while True:\n",
    "        response = input(\"What do you want to do? Add/Remove/Show/Clear/Quit? \").lower()\n",
    "        \n",
    "        if response == 'quit':\n",
    "            print(\"Bye! \")\n",
    "            show_cart()\n",
    "            break\n",
    "            \n",
    "        elif response == 'add':\n",
    "            item = input(\"Add what to cart? \")\n",
    "            add_item(item)\n",
    "            \n",
    "        elif response == 'remove':\n",
    "            print(\"Cart: \")\n",
    "            show_cart()\n",
    "            item = input(\"Remove which item? \")\n",
    "            remove_item(item)\n",
    "            \n",
    "        elif response == 'show':\n",
    "            show_cart()\n",
    "            \n",
    "        elif response == 'clear':\n",
    "            check = input('Are you sure? y/n').lower()\n",
    "            if check == 'y':\n",
    "                clear_cart()\n",
    "        \n",
    "        else:\n",
    "            print(\"Not a valid option. Please try again. \")\n",
    "            \n",
    "shopping_cart()         "
   ]
  },
  {
   "cell_type": "markdown",
   "metadata": {},
   "source": [
    "Write a Python class which has two methods get_String and print_String. get_String accepts a string from the user and print_String print the string in upper case"
   ]
  },
  {
   "cell_type": "code",
   "execution_count": 19,
   "metadata": {},
   "outputs": [
    {
     "name": "stdout",
     "output_type": "stream",
     "text": [
      "hiiiii\n",
      "HIIIII\n"
     ]
    }
   ],
   "source": [
    "class Stringy():\n",
    "    def __init__(self):\n",
    "        self.s1 = \"\"\n",
    "\n",
    "    def get_String(self):\n",
    "        self.s1 = input()\n",
    "\n",
    "    def print_String(self):\n",
    "        print(self.s1.upper())\n",
    "\n",
    "s1 = Stringy()\n",
    "s1.get_String()\n",
    "s1.print_String()"
   ]
  }
 ],
 "metadata": {
  "kernelspec": {
   "display_name": "Python 3",
   "language": "python",
   "name": "python3"
  },
  "language_info": {
   "codemirror_mode": {
    "name": "ipython",
    "version": 3
   },
   "file_extension": ".py",
   "mimetype": "text/x-python",
   "name": "python",
   "nbconvert_exporter": "python",
   "pygments_lexer": "ipython3",
   "version": "3.8.5"
  }
 },
 "nbformat": 4,
 "nbformat_minor": 4
}
